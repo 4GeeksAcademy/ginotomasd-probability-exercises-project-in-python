{
 "cells": [
  {
   "cell_type": "markdown",
   "id": "a41f3622",
   "metadata": {},
   "source": [
    "# Probability exercises"
   ]
  },
  {
   "cell_type": "markdown",
   "id": "a6bdbd89",
   "metadata": {},
   "source": [
    "## Exercise 1 \n",
    "\n",
    "Two dices are thrown once and the total score is observed. Use a simulation to find the estimated probability that the total score is even or greater than 7.  A simulation is a repetition of the same experiment multiple times to observe its behavior:\n",
    "\n",
    "- Run the experiment 1000 times (roll 2 dice 1000 times, and sum the number of both dices).\n",
    "- Keep track of the number of times that the sum was either greater than 7 or an even number.\n",
    "- Divide the number from step 2 by the number of iterations (1000)."
   ]
  },
  {
   "cell_type": "code",
   "execution_count": 48,
   "id": "8939d892",
   "metadata": {},
   "outputs": [
    {
     "name": "stdout",
     "output_type": "stream",
     "text": [
      "The number of times that the sum of the numbers exceeded 7 or was an even number was: 677\n",
      "\n",
      "The probability is: 67.7 %\n"
     ]
    }
   ],
   "source": [
    "# TODO\n",
    "\n",
    "import random\n",
    "import numpy as np\n",
    "import pandas as pd\n",
    "\n",
    "resultados1 = []\n",
    "resultados2 = []\n",
    "\n",
    "for x in range(1000):\n",
    "    dice1 = random.randint(1,6)\n",
    "    dice2 = random.randint(1,6)\n",
    "    resultados1.append(dice1)\n",
    "    resultados2.append(dice2)\n",
    "\n",
    "sum_listed = np.add(resultados1, resultados2)\n",
    "counter = 0\n",
    "\n",
    "for x in sum_listed:\n",
    "    if x > 7 or x % 2 == 0:\n",
    "        counter += 1\n",
    "\n",
    "probability = counter / 1000\n",
    "probability_in_percentage = probability * 100\n",
    "\n",
    "print(\"The number of times that the sum of the numbers exceeded 7 or was an even number was:\", counter)\n",
    "print()\n",
    "print(\"The probability is:\", probability_in_percentage, \"%\")\n"
   ]
  },
  {
   "cell_type": "markdown",
   "id": "55732bca",
   "metadata": {},
   "source": [
    "## Exercise 2\n",
    "\n",
    "A box contains 10 white balls, 20 red balls and 30 green balls. If we take 5 balls from the box with replacement (we take the ball, observe what color it is and put it back into the box). We want to know the probability of:\n",
    "\n",
    "1. Take 3 white and 2 red.\n",
    "2. Take all of the same color.\n",
    "\n",
    "Run the experiment 1000 times and calculate the above probabilities."
   ]
  },
  {
   "cell_type": "code",
   "execution_count": 49,
   "id": "23244d20",
   "metadata": {},
   "outputs": [
    {
     "name": "stdout",
     "output_type": "stream",
     "text": [
      "{0: 'White', 1: 'White', 2: 'White', 3: 'White', 4: 'White', 5: 'White', 6: 'White', 7: 'White', 8: 'White', 9: 'White', 10: 'Red', 11: 'Red', 12: 'Red', 13: 'Red', 14: 'Red', 15: 'Red', 16: 'Red', 17: 'Red', 18: 'Red', 19: 'Red', 20: 'Red', 21: 'Red', 22: 'Red', 23: 'Red', 24: 'Red', 25: 'Red', 26: 'Red', 27: 'Red', 28: 'Red', 29: 'Red', 30: 'Green', 31: 'Green', 32: 'Green', 33: 'Green', 34: 'Green', 35: 'Green', 36: 'Green', 37: 'Green', 38: 'Green', 39: 'Green', 40: 'Green', 41: 'Green', 42: 'Green', 43: 'Green', 44: 'Green', 45: 'Green', 46: 'Green', 47: 'Green', 48: 'Green', 49: 'Green', 50: 'Green', 51: 'Green', 52: 'Green', 53: 'Green', 54: 'Green', 55: 'Green', 56: 'Green', 57: 'Green', 58: 'Green', 59: 'Green'}\n",
      "The probability of drawing 3 white balls and 2 red balls is: 0.011 \n",
      "\n",
      "The probability of drawing all balls with the same color is: 0.03\n"
     ]
    }
   ],
   "source": [
    "import random\n",
    "\n",
    "ball_box = {}\n",
    "\n",
    "# Create the box of balls\n",
    "for i in range(60):\n",
    "    if i < 10:\n",
    "        ball_box[i] = \"White\"\n",
    "    elif (i > 9) and (i < 30):\n",
    "        ball_box[i] = \"Red\"\n",
    "    else:\n",
    "        ball_box[i] = \"Green\"\n",
    "\n",
    "print(ball_box)\n",
    "            \n",
    "# TODO\n",
    "\n",
    "ball_list = list(ball_box.values())\n",
    "\n",
    "number_experiments = 1000\n",
    "threewhite_twored = 0\n",
    "all_same_color = 0\n",
    "\n",
    "for _ in range(number_experiments):\n",
    "    draws = [random.choice(ball_list) for _ in range(5)]\n",
    "\n",
    "    white_count = draws.count(\"White\")\n",
    "    red_count = draws.count(\"Red\")\n",
    "    green_count = draws.count(\"Green\")\n",
    "\n",
    "    if white_count == 3 and red_count == 2:\n",
    "        threewhite_twored += 1\n",
    "\n",
    "    if white_count == 5 or red_count == 5 or green_count == 5:\n",
    "        all_same_color += 1\n",
    "\n",
    "    prob_threewhite_twored = threewhite_twored / number_experiments\n",
    "    prob_all_same_color = all_same_color / number_experiments\n",
    "\n",
    "print(\"The probability of drawing 3 white balls and 2 red balls is:\", prob_threewhite_twored, \"\\n\")\n",
    "print(\"The probability of drawing all balls with the same color is:\", prob_all_same_color)\n"
   ]
  }
 ],
 "metadata": {
  "kernelspec": {
   "display_name": "Python 3",
   "language": "python",
   "name": "python3"
  },
  "language_info": {
   "codemirror_mode": {
    "name": "ipython",
    "version": 3
   },
   "file_extension": ".py",
   "mimetype": "text/x-python",
   "name": "python",
   "nbconvert_exporter": "python",
   "pygments_lexer": "ipython3",
   "version": "3.11.4"
  }
 },
 "nbformat": 4,
 "nbformat_minor": 5
}
